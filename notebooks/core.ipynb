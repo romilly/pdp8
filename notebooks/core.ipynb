{
 "cells": [
  {
   "cell_type": "code",
   "execution_count": 1,
   "metadata": {
    "collapsed": true
   },
   "outputs": [],
   "source": [
    "W_BITS = 12 # number of bits in a word\n",
    "W_MASK = 2**W_BITS - 1 # word mask"
   ]
  },
  {
   "cell_type": "code",
   "execution_count": 17,
   "metadata": {},
   "outputs": [],
   "source": [
    "from io import StringIO\n",
    "\n",
    "\n",
    "class PDP8:\n",
    "    def __init__(self, debugging = False):\n",
    "        self.mem = 2**W_BITS*[0]\n",
    "        self.pc = 0\n",
    "        self.accumulator = 0\n",
    "        self.link = 0\n",
    "        self.running = False\n",
    "        self.debugging = debugging\n",
    "        \n",
    "    def __getitem__(self, address):\n",
    "        return self.mem[address]\n",
    "    \n",
    "    def __setitem__(self, address, contents):\n",
    "        self.mem[address] = contents & W_MASK # only 12 bits stored\n",
    "        \n",
    "    def run(self, start=0, tape=''):\n",
    "        self.running = True\n",
    "        self.pc = start\n",
    "        self.tape = StringIO(tape)\n",
    "        while self.running:\n",
    "            instruction = self[self.pc]\n",
    "            self.execute(instruction)\n",
    "\n",
    "    def execute(self, instruction):\n",
    "        self.halt()\n",
    "\n",
    "    def halt(self):\n",
    "        if self.debugging:\n",
    "            print('Halted')\n",
    "        self.running = False\n",
    "    \n",
    "    \n",
    "        \n"
   ]
  },
  {
   "cell_type": "code",
   "execution_count": 19,
   "metadata": {},
   "outputs": [
    {
     "name": "stdout",
     "output_type": "stream",
     "text": [
      "Halted\n"
     ]
    }
   ],
   "source": [
    "cpu = PDP8(debugging=True)\n",
    "cpu[0] \n",
    "cpu.run()"
   ]
  },
  {
   "cell_type": "code",
   "execution_count": 16,
   "metadata": {},
   "outputs": [
    {
     "data": {
      "text/plain": [
       "0"
      ]
     },
     "execution_count": 16,
     "metadata": {},
     "output_type": "execute_result"
    }
   ],
   "source": [
    "cpu[0] = 4096\n",
    "cpu[0]"
   ]
  },
  {
   "cell_type": "code",
   "execution_count": null,
   "metadata": {},
   "outputs": [],
   "source": []
  }
 ],
 "metadata": {
  "kernelspec": {
   "display_name": "Python 2",
   "language": "python",
   "name": "python2"
  },
  "language_info": {
   "codemirror_mode": {
    "name": "ipython",
    "version": 2
   },
   "file_extension": ".py",
   "mimetype": "text/x-python",
   "name": "python",
   "nbconvert_exporter": "python",
   "pygments_lexer": "ipython2",
   "version": "2.7.6"
  }
 },
 "nbformat": 4,
 "nbformat_minor": 0
}
